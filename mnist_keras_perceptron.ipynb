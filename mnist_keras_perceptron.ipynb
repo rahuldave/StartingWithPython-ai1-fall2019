{
  "nbformat": 4,
  "nbformat_minor": 0,
  "metadata": {
    "colab": {
      "name": "mnist-keras-perceptron.ipynb",
      "provenance": [],
      "collapsed_sections": [],
      "include_colab_link": true
    },
    "kernelspec": {
      "name": "python3",
      "display_name": "Python 3"
    },
    "accelerator": "GPU"
  },
  "cells": [
    {
      "cell_type": "markdown",
      "metadata": {
        "id": "view-in-github",
        "colab_type": "text"
      },
      "source": [
        "<a href=\"https://colab.research.google.com/github/rahuldave/StartingWithPython-ai1-fall2019/blob/master/mnist_keras_perceptron.ipynb\" target=\"_parent\"><img src=\"https://colab.research.google.com/assets/colab-badge.svg\" alt=\"Open In Colab\"/></a>"
      ]
    },
    {
      "cell_type": "code",
      "metadata": {
        "id": "0rrbVKm5n6E3",
        "colab_type": "code",
        "outputId": "c442c627-9b22-4e66-e702-00630c78d408",
        "colab": {
          "base_uri": "https://localhost:8080/",
          "height": 35
        }
      },
      "source": [
        "# taken from lukas/ml-class\n",
        "import numpy as np\n",
        "from keras.datasets import mnist\n",
        "from keras.models import Sequential\n",
        "from keras.layers import Dense, Flatten, Dropout\n",
        "from keras.utils import np_utils\n",
        "from keras.callbacks import Callback\n",
        "import json\n",
        "\n",
        "# from wandb.keras import WandbCallback\n",
        "# import wandb\n",
        "\n",
        "# run = wandb.init()\n",
        "# config = run.config\n",
        "\n",
        "\n",
        "\n"
      ],
      "execution_count": 1,
      "outputs": [
        {
          "output_type": "stream",
          "text": [
            "Using TensorFlow backend.\n"
          ],
          "name": "stderr"
        }
      ]
    },
    {
      "cell_type": "code",
      "metadata": {
        "id": "Fcfi0qISUQed",
        "colab_type": "code",
        "colab": {
          "base_uri": "https://localhost:8080/",
          "height": 35
        },
        "outputId": "21a7e82c-4cf1-474b-8a38-a1963ce2ec01"
      },
      "source": [
        "1+1"
      ],
      "execution_count": 22,
      "outputs": [
        {
          "output_type": "execute_result",
          "data": {
            "text/plain": [
              "2"
            ]
          },
          "metadata": {
            "tags": []
          },
          "execution_count": 22
        }
      ]
    },
    {
      "cell_type": "markdown",
      "metadata": {
        "id": "XGlbFH6rUW0e",
        "colab_type": "text"
      },
      "source": [
        "### Hello World\n",
        "\n",
        "1. One\n",
        "2. Two\n",
        "3. Three\n",
        "\n",
        "fhkjfhkjfhsdfskfhsdkfhsdfk\n",
        "sdhjshsdjdfsjfgjsdhfg\n",
        "\n",
        "- hello\n",
        "- waorld\n",
        "- gunnu\n",
        "\n",
        "Hello the $\\alpha$ ia a greek letter.\n",
        "\n",
        "hello $$\\alpha + \\beta + \\gamma = \\delta$$\n",
        "\n",
        "---\n",
        "\n",
        "*alpha* **alpha**"
      ]
    },
    {
      "cell_type": "code",
      "metadata": {
        "id": "dJ455DwKYM_K",
        "colab_type": "code",
        "colab": {
          "base_uri": "https://localhost:8080/",
          "height": 35
        },
        "outputId": "4321450b-d61b-4e0f-af7f-4cb74032ac8b"
      },
      "source": [
        "a = (1, 2)\n",
        "type(a)"
      ],
      "execution_count": 3,
      "outputs": [
        {
          "output_type": "execute_result",
          "data": {
            "text/plain": [
              "tuple"
            ]
          },
          "metadata": {
            "tags": []
          },
          "execution_count": 3
        }
      ]
    },
    {
      "cell_type": "code",
      "metadata": {
        "id": "yoLH2KIKYWzq",
        "colab_type": "code",
        "colab": {
          "base_uri": "https://localhost:8080/",
          "height": 35
        },
        "outputId": "b913b07a-ec81-4283-a408-0e60fe7a681f"
      },
      "source": [
        "a"
      ],
      "execution_count": 5,
      "outputs": [
        {
          "output_type": "execute_result",
          "data": {
            "text/plain": [
              "(1, 2)"
            ]
          },
          "metadata": {
            "tags": []
          },
          "execution_count": 5
        }
      ]
    },
    {
      "cell_type": "code",
      "metadata": {
        "id": "eMy6RNEmYaEX",
        "colab_type": "code",
        "colab": {
          "base_uri": "https://localhost:8080/",
          "height": 169
        },
        "outputId": "d38a3541-c779-47e4-97e4-7c74cea06269"
      },
      "source": [
        "a[0] = 10"
      ],
      "execution_count": 6,
      "outputs": [
        {
          "output_type": "error",
          "ename": "TypeError",
          "evalue": "ignored",
          "traceback": [
            "\u001b[0;31m---------------------------------------------------------------------------\u001b[0m",
            "\u001b[0;31mTypeError\u001b[0m                                 Traceback (most recent call last)",
            "\u001b[0;32m<ipython-input-6-88fe5a9b0ebf>\u001b[0m in \u001b[0;36m<module>\u001b[0;34m()\u001b[0m\n\u001b[0;32m----> 1\u001b[0;31m \u001b[0ma\u001b[0m\u001b[0;34m[\u001b[0m\u001b[0;36m0\u001b[0m\u001b[0;34m]\u001b[0m \u001b[0;34m=\u001b[0m \u001b[0;36m10\u001b[0m\u001b[0;34m\u001b[0m\u001b[0;34m\u001b[0m\u001b[0m\n\u001b[0m",
            "\u001b[0;31mTypeError\u001b[0m: 'tuple' object does not support item assignment"
          ]
        }
      ]
    },
    {
      "cell_type": "code",
      "metadata": {
        "id": "GQviW1BuRaJL",
        "colab_type": "code",
        "colab": {
          "base_uri": "https://localhost:8080/",
          "height": 35
        },
        "outputId": "8ae3ab83-c21f-46a7-f1a6-6b5b0bdb2aed"
      },
      "source": [
        "class Config:pass\n",
        "\n",
        "config = Config()\n",
        "config.optimizer = \"adam\"\n",
        "config.epochs = 40\n",
        "config.hidden_nodes = 50\n",
        "\n",
        "# load data\n",
        "(X_train, y_train), (X_test, y_test) = mnist.load_data()\n",
        "print(X_train.shape, y_train.shape)\n",
        "img_width = X_train.shape[1]\n",
        "img_height = X_train.shape[2]\n",
        "\n",
        "#"
      ],
      "execution_count": 61,
      "outputs": [
        {
          "output_type": "stream",
          "text": [
            "(60000, 28, 28) (60000,)\n"
          ],
          "name": "stdout"
        }
      ]
    },
    {
      "cell_type": "code",
      "metadata": {
        "id": "qoKTivMYaJNR",
        "colab_type": "code",
        "colab": {
          "base_uri": "https://localhost:8080/",
          "height": 35
        },
        "outputId": "88465906-504b-4666-bf19-fa04a78238c5"
      },
      "source": [
        "y_train"
      ],
      "execution_count": 62,
      "outputs": [
        {
          "output_type": "execute_result",
          "data": {
            "text/plain": [
              "array([5, 0, 4, ..., 5, 6, 8], dtype=uint8)"
            ]
          },
          "metadata": {
            "tags": []
          },
          "execution_count": 62
        }
      ]
    },
    {
      "cell_type": "code",
      "metadata": {
        "id": "DBfFgCJfaE9p",
        "colab_type": "code",
        "colab": {}
      },
      "source": [
        "#X_train = X_train.astype('float32')\n",
        "#X_train /= 255.\n",
        "#X_test = X_test.astype('float32')\n",
        "#X_test /= 255.\n",
        "\n",
        "# Normalize, change learning rate, play with layer size, batchsize\n",
        "\n",
        "# one hot encode outputs\n",
        "y_train = np_utils.to_categorical(y_train)\n",
        "y_test = np_utils.to_categorical(y_test)\n",
        "labels = range(10)\n",
        "\n",
        "num_classes = y_train.shape[1]\n",
        "\n"
      ],
      "execution_count": 0,
      "outputs": []
    },
    {
      "cell_type": "code",
      "metadata": {
        "id": "PFW7AFvWZUj8",
        "colab_type": "code",
        "colab": {
          "base_uri": "https://localhost:8080/",
          "height": 35
        },
        "outputId": "28bac7a6-7f77-406f-c27d-e83f2d23c783"
      },
      "source": [
        "y_train.shape"
      ],
      "execution_count": 64,
      "outputs": [
        {
          "output_type": "execute_result",
          "data": {
            "text/plain": [
              "(60000, 10)"
            ]
          },
          "metadata": {
            "tags": []
          },
          "execution_count": 64
        }
      ]
    },
    {
      "cell_type": "code",
      "metadata": {
        "id": "I-a8IABw_euj",
        "colab_type": "code",
        "colab": {
          "base_uri": "https://localhost:8080/",
          "height": 35
        },
        "outputId": "dd4dbd33-07ac-433a-e92c-56ce9f3efb3e"
      },
      "source": [
        "y_train[0]"
      ],
      "execution_count": 65,
      "outputs": [
        {
          "output_type": "execute_result",
          "data": {
            "text/plain": [
              "array([0., 0., 0., 0., 0., 1., 0., 0., 0., 0.], dtype=float32)"
            ]
          },
          "metadata": {
            "tags": []
          },
          "execution_count": 65
        }
      ]
    },
    {
      "cell_type": "code",
      "metadata": {
        "id": "X27OfFOXY6v_",
        "colab_type": "code",
        "colab": {
          "base_uri": "https://localhost:8080/",
          "height": 1000
        },
        "outputId": "7559b806-3905-46f0-ba3f-120a032860b8"
      },
      "source": [
        "X_train[0]"
      ],
      "execution_count": 66,
      "outputs": [
        {
          "output_type": "execute_result",
          "data": {
            "text/plain": [
              "array([[  0,   0,   0,   0,   0,   0,   0,   0,   0,   0,   0,   0,   0,\n",
              "          0,   0,   0,   0,   0,   0,   0,   0,   0,   0,   0,   0,   0,\n",
              "          0,   0],\n",
              "       [  0,   0,   0,   0,   0,   0,   0,   0,   0,   0,   0,   0,   0,\n",
              "          0,   0,   0,   0,   0,   0,   0,   0,   0,   0,   0,   0,   0,\n",
              "          0,   0],\n",
              "       [  0,   0,   0,   0,   0,   0,   0,   0,   0,   0,   0,   0,   0,\n",
              "          0,   0,   0,   0,   0,   0,   0,   0,   0,   0,   0,   0,   0,\n",
              "          0,   0],\n",
              "       [  0,   0,   0,   0,   0,   0,   0,   0,   0,   0,   0,   0,   0,\n",
              "          0,   0,   0,   0,   0,   0,   0,   0,   0,   0,   0,   0,   0,\n",
              "          0,   0],\n",
              "       [  0,   0,   0,   0,   0,   0,   0,   0,   0,   0,   0,   0,   0,\n",
              "          0,   0,   0,   0,   0,   0,   0,   0,   0,   0,   0,   0,   0,\n",
              "          0,   0],\n",
              "       [  0,   0,   0,   0,   0,   0,   0,   0,   0,   0,   0,   0,   3,\n",
              "         18,  18,  18, 126, 136, 175,  26, 166, 255, 247, 127,   0,   0,\n",
              "          0,   0],\n",
              "       [  0,   0,   0,   0,   0,   0,   0,   0,  30,  36,  94, 154, 170,\n",
              "        253, 253, 253, 253, 253, 225, 172, 253, 242, 195,  64,   0,   0,\n",
              "          0,   0],\n",
              "       [  0,   0,   0,   0,   0,   0,   0,  49, 238, 253, 253, 253, 253,\n",
              "        253, 253, 253, 253, 251,  93,  82,  82,  56,  39,   0,   0,   0,\n",
              "          0,   0],\n",
              "       [  0,   0,   0,   0,   0,   0,   0,  18, 219, 253, 253, 253, 253,\n",
              "        253, 198, 182, 247, 241,   0,   0,   0,   0,   0,   0,   0,   0,\n",
              "          0,   0],\n",
              "       [  0,   0,   0,   0,   0,   0,   0,   0,  80, 156, 107, 253, 253,\n",
              "        205,  11,   0,  43, 154,   0,   0,   0,   0,   0,   0,   0,   0,\n",
              "          0,   0],\n",
              "       [  0,   0,   0,   0,   0,   0,   0,   0,   0,  14,   1, 154, 253,\n",
              "         90,   0,   0,   0,   0,   0,   0,   0,   0,   0,   0,   0,   0,\n",
              "          0,   0],\n",
              "       [  0,   0,   0,   0,   0,   0,   0,   0,   0,   0,   0, 139, 253,\n",
              "        190,   2,   0,   0,   0,   0,   0,   0,   0,   0,   0,   0,   0,\n",
              "          0,   0],\n",
              "       [  0,   0,   0,   0,   0,   0,   0,   0,   0,   0,   0,  11, 190,\n",
              "        253,  70,   0,   0,   0,   0,   0,   0,   0,   0,   0,   0,   0,\n",
              "          0,   0],\n",
              "       [  0,   0,   0,   0,   0,   0,   0,   0,   0,   0,   0,   0,  35,\n",
              "        241, 225, 160, 108,   1,   0,   0,   0,   0,   0,   0,   0,   0,\n",
              "          0,   0],\n",
              "       [  0,   0,   0,   0,   0,   0,   0,   0,   0,   0,   0,   0,   0,\n",
              "         81, 240, 253, 253, 119,  25,   0,   0,   0,   0,   0,   0,   0,\n",
              "          0,   0],\n",
              "       [  0,   0,   0,   0,   0,   0,   0,   0,   0,   0,   0,   0,   0,\n",
              "          0,  45, 186, 253, 253, 150,  27,   0,   0,   0,   0,   0,   0,\n",
              "          0,   0],\n",
              "       [  0,   0,   0,   0,   0,   0,   0,   0,   0,   0,   0,   0,   0,\n",
              "          0,   0,  16,  93, 252, 253, 187,   0,   0,   0,   0,   0,   0,\n",
              "          0,   0],\n",
              "       [  0,   0,   0,   0,   0,   0,   0,   0,   0,   0,   0,   0,   0,\n",
              "          0,   0,   0,   0, 249, 253, 249,  64,   0,   0,   0,   0,   0,\n",
              "          0,   0],\n",
              "       [  0,   0,   0,   0,   0,   0,   0,   0,   0,   0,   0,   0,   0,\n",
              "          0,  46, 130, 183, 253, 253, 207,   2,   0,   0,   0,   0,   0,\n",
              "          0,   0],\n",
              "       [  0,   0,   0,   0,   0,   0,   0,   0,   0,   0,   0,   0,  39,\n",
              "        148, 229, 253, 253, 253, 250, 182,   0,   0,   0,   0,   0,   0,\n",
              "          0,   0],\n",
              "       [  0,   0,   0,   0,   0,   0,   0,   0,   0,   0,  24, 114, 221,\n",
              "        253, 253, 253, 253, 201,  78,   0,   0,   0,   0,   0,   0,   0,\n",
              "          0,   0],\n",
              "       [  0,   0,   0,   0,   0,   0,   0,   0,  23,  66, 213, 253, 253,\n",
              "        253, 253, 198,  81,   2,   0,   0,   0,   0,   0,   0,   0,   0,\n",
              "          0,   0],\n",
              "       [  0,   0,   0,   0,   0,   0,  18, 171, 219, 253, 253, 253, 253,\n",
              "        195,  80,   9,   0,   0,   0,   0,   0,   0,   0,   0,   0,   0,\n",
              "          0,   0],\n",
              "       [  0,   0,   0,   0,  55, 172, 226, 253, 253, 253, 253, 244, 133,\n",
              "         11,   0,   0,   0,   0,   0,   0,   0,   0,   0,   0,   0,   0,\n",
              "          0,   0],\n",
              "       [  0,   0,   0,   0, 136, 253, 253, 253, 212, 135, 132,  16,   0,\n",
              "          0,   0,   0,   0,   0,   0,   0,   0,   0,   0,   0,   0,   0,\n",
              "          0,   0],\n",
              "       [  0,   0,   0,   0,   0,   0,   0,   0,   0,   0,   0,   0,   0,\n",
              "          0,   0,   0,   0,   0,   0,   0,   0,   0,   0,   0,   0,   0,\n",
              "          0,   0],\n",
              "       [  0,   0,   0,   0,   0,   0,   0,   0,   0,   0,   0,   0,   0,\n",
              "          0,   0,   0,   0,   0,   0,   0,   0,   0,   0,   0,   0,   0,\n",
              "          0,   0],\n",
              "       [  0,   0,   0,   0,   0,   0,   0,   0,   0,   0,   0,   0,   0,\n",
              "          0,   0,   0,   0,   0,   0,   0,   0,   0,   0,   0,   0,   0,\n",
              "          0,   0]], dtype=uint8)"
            ]
          },
          "metadata": {
            "tags": []
          },
          "execution_count": 66
        }
      ]
    },
    {
      "cell_type": "code",
      "metadata": {
        "id": "mBoojTqSRiaS",
        "colab_type": "code",
        "colab": {
          "base_uri": "https://localhost:8080/",
          "height": 306
        },
        "outputId": "456cb53c-6ac9-4a07-86ef-67e8ae608b56"
      },
      "source": [
        "# create model\n",
        "model = Sequential()\n",
        "model.add(Flatten(input_shape=(img_width, img_height)))\n",
        "model.add(Dense(config.hidden_nodes, activation='relu'))\n",
        "model.add(Dense(config.hidden_nodes, activation='relu'))\n",
        "model.add(Dense(num_classes, activation='softmax'))\n",
        "model.compile(loss='categorical_crossentropy', optimizer=config.optimizer,\n",
        "              metrics=['accuracy'])\n",
        "model.summary()"
      ],
      "execution_count": 67,
      "outputs": [
        {
          "output_type": "stream",
          "text": [
            "Model: \"sequential_3\"\n",
            "_________________________________________________________________\n",
            "Layer (type)                 Output Shape              Param #   \n",
            "=================================================================\n",
            "flatten_3 (Flatten)          (None, 784)               0         \n",
            "_________________________________________________________________\n",
            "dense_7 (Dense)              (None, 50)                39250     \n",
            "_________________________________________________________________\n",
            "dense_8 (Dense)              (None, 50)                2550      \n",
            "_________________________________________________________________\n",
            "dense_9 (Dense)              (None, 10)                510       \n",
            "=================================================================\n",
            "Total params: 42,310\n",
            "Trainable params: 42,310\n",
            "Non-trainable params: 0\n",
            "_________________________________________________________________\n"
          ],
          "name": "stdout"
        }
      ]
    },
    {
      "cell_type": "code",
      "metadata": {
        "id": "oGNsupNqRium",
        "colab_type": "code",
        "colab": {
          "base_uri": "https://localhost:8080/",
          "height": 1000
        },
        "outputId": "622cac18-30e1-4c81-f25e-d32e245c01b9"
      },
      "source": [
        "# Fit the model\n",
        "history = model.fit(X_train, y_train, validation_data=(X_test, y_test),\n",
        "          epochs=config.epochs)"
      ],
      "execution_count": 68,
      "outputs": [
        {
          "output_type": "stream",
          "text": [
            "Train on 60000 samples, validate on 10000 samples\n",
            "Epoch 1/40\n",
            "60000/60000 [==============================] - 7s 116us/step - loss: 6.6881 - acc: 0.5795 - val_loss: 5.6676 - val_acc: 0.6458\n",
            "Epoch 2/40\n",
            "60000/60000 [==============================] - 7s 111us/step - loss: 4.5002 - acc: 0.7176 - val_loss: 4.4267 - val_acc: 0.7224\n",
            "Epoch 3/40\n",
            "60000/60000 [==============================] - 7s 111us/step - loss: 4.1959 - acc: 0.7376 - val_loss: 4.4692 - val_acc: 0.7205\n",
            "Epoch 4/40\n",
            "60000/60000 [==============================] - 7s 109us/step - loss: 4.1960 - acc: 0.7380 - val_loss: 4.1058 - val_acc: 0.7442\n",
            "Epoch 5/40\n",
            "60000/60000 [==============================] - 7s 110us/step - loss: 4.1084 - acc: 0.7439 - val_loss: 4.0963 - val_acc: 0.7449\n",
            "Epoch 6/40\n",
            "60000/60000 [==============================] - 7s 111us/step - loss: 4.1062 - acc: 0.7442 - val_loss: 4.0276 - val_acc: 0.7497\n",
            "Epoch 7/40\n",
            "60000/60000 [==============================] - 7s 113us/step - loss: 4.0888 - acc: 0.7454 - val_loss: 4.0075 - val_acc: 0.7507\n",
            "Epoch 8/40\n",
            "60000/60000 [==============================] - 7s 113us/step - loss: 4.0745 - acc: 0.7462 - val_loss: 4.4071 - val_acc: 0.7253\n",
            "Epoch 9/40\n",
            "60000/60000 [==============================] - 7s 110us/step - loss: 3.9960 - acc: 0.7515 - val_loss: 4.1460 - val_acc: 0.7418\n",
            "Epoch 10/40\n",
            "60000/60000 [==============================] - 6s 108us/step - loss: 4.0269 - acc: 0.7494 - val_loss: 4.2492 - val_acc: 0.7358\n",
            "Epoch 11/40\n",
            "60000/60000 [==============================] - 7s 109us/step - loss: 4.0044 - acc: 0.7509 - val_loss: 4.0857 - val_acc: 0.7459\n",
            "Epoch 12/40\n",
            "60000/60000 [==============================] - 6s 107us/step - loss: 3.9645 - acc: 0.7536 - val_loss: 3.9276 - val_acc: 0.7560\n",
            "Epoch 13/40\n",
            "60000/60000 [==============================] - 6s 108us/step - loss: 4.0722 - acc: 0.7467 - val_loss: 4.1162 - val_acc: 0.7439\n",
            "Epoch 14/40\n",
            "60000/60000 [==============================] - 6s 106us/step - loss: 4.0128 - acc: 0.7505 - val_loss: 4.1827 - val_acc: 0.7399\n",
            "Epoch 15/40\n",
            "60000/60000 [==============================] - 6s 106us/step - loss: 3.9193 - acc: 0.7564 - val_loss: 4.2179 - val_acc: 0.7378\n",
            "Epoch 16/40\n",
            "60000/60000 [==============================] - 6s 105us/step - loss: 4.1033 - acc: 0.7450 - val_loss: 3.9822 - val_acc: 0.7526\n",
            "Epoch 17/40\n",
            "60000/60000 [==============================] - 6s 106us/step - loss: 3.9831 - acc: 0.7526 - val_loss: 3.8682 - val_acc: 0.7598\n",
            "Epoch 18/40\n",
            "60000/60000 [==============================] - 6s 108us/step - loss: 3.9694 - acc: 0.7533 - val_loss: 4.0738 - val_acc: 0.7468\n",
            "Epoch 19/40\n",
            "60000/60000 [==============================] - 7s 109us/step - loss: 4.0043 - acc: 0.7512 - val_loss: 4.1086 - val_acc: 0.7447\n",
            "Epoch 20/40\n",
            "60000/60000 [==============================] - 6s 105us/step - loss: 3.9865 - acc: 0.7523 - val_loss: 3.8961 - val_acc: 0.7580\n",
            "Epoch 21/40\n",
            "60000/60000 [==============================] - 6s 105us/step - loss: 4.0139 - acc: 0.7507 - val_loss: 3.8965 - val_acc: 0.7580\n",
            "Epoch 22/40\n",
            "60000/60000 [==============================] - 6s 107us/step - loss: 4.0456 - acc: 0.7487 - val_loss: 3.8743 - val_acc: 0.7594\n",
            "Epoch 23/40\n",
            "60000/60000 [==============================] - 6s 105us/step - loss: 3.8997 - acc: 0.7578 - val_loss: 3.9442 - val_acc: 0.7551\n",
            "Epoch 24/40\n",
            "60000/60000 [==============================] - 6s 105us/step - loss: 4.0405 - acc: 0.7491 - val_loss: 4.1153 - val_acc: 0.7443\n",
            "Epoch 25/40\n",
            "60000/60000 [==============================] - 6s 106us/step - loss: 4.0130 - acc: 0.7507 - val_loss: 3.8605 - val_acc: 0.7603\n",
            "Epoch 26/40\n",
            "60000/60000 [==============================] - 6s 105us/step - loss: 3.8812 - acc: 0.7589 - val_loss: 3.8788 - val_acc: 0.7592\n",
            "Epoch 27/40\n",
            "60000/60000 [==============================] - 6s 107us/step - loss: 3.9329 - acc: 0.7558 - val_loss: 3.9811 - val_acc: 0.7529\n",
            "Epoch 28/40\n",
            "60000/60000 [==============================] - 6s 105us/step - loss: 3.9079 - acc: 0.7573 - val_loss: 3.8485 - val_acc: 0.7611\n",
            "Epoch 29/40\n",
            "60000/60000 [==============================] - 6s 106us/step - loss: 3.9775 - acc: 0.7531 - val_loss: 4.0320 - val_acc: 0.7497\n",
            "Epoch 30/40\n",
            "60000/60000 [==============================] - 6s 107us/step - loss: 3.9434 - acc: 0.7552 - val_loss: 4.1178 - val_acc: 0.7442\n",
            "Epoch 31/40\n",
            "60000/60000 [==============================] - 6s 106us/step - loss: 3.9899 - acc: 0.7522 - val_loss: 4.0519 - val_acc: 0.7485\n",
            "Epoch 32/40\n",
            "60000/60000 [==============================] - 6s 106us/step - loss: 4.0994 - acc: 0.7454 - val_loss: 3.9704 - val_acc: 0.7536\n",
            "Epoch 33/40\n",
            "60000/60000 [==============================] - 6s 106us/step - loss: 3.9618 - acc: 0.7540 - val_loss: 4.0399 - val_acc: 0.7493\n",
            "Epoch 34/40\n",
            "60000/60000 [==============================] - 6s 105us/step - loss: 4.3380 - acc: 0.7308 - val_loss: 4.1475 - val_acc: 0.7426\n",
            "Epoch 35/40\n",
            "60000/60000 [==============================] - 6s 104us/step - loss: 3.9894 - acc: 0.7523 - val_loss: 3.9683 - val_acc: 0.7538\n",
            "Epoch 36/40\n",
            "60000/60000 [==============================] - 6s 105us/step - loss: 4.0257 - acc: 0.7500 - val_loss: 4.0248 - val_acc: 0.7502\n",
            "Epoch 37/40\n",
            "60000/60000 [==============================] - 6s 105us/step - loss: 3.9872 - acc: 0.7525 - val_loss: 3.9941 - val_acc: 0.7522\n",
            "Epoch 38/40\n",
            "60000/60000 [==============================] - 6s 105us/step - loss: 3.9727 - acc: 0.7533 - val_loss: 4.0630 - val_acc: 0.7479\n",
            "Epoch 39/40\n",
            "60000/60000 [==============================] - 6s 105us/step - loss: 3.9497 - acc: 0.7548 - val_loss: 3.9868 - val_acc: 0.7526\n",
            "Epoch 40/40\n",
            "60000/60000 [==============================] - 6s 105us/step - loss: 3.8871 - acc: 0.7587 - val_loss: 4.0435 - val_acc: 0.7491\n"
          ],
          "name": "stdout"
        }
      ]
    },
    {
      "cell_type": "code",
      "metadata": {
        "id": "RB8HWRqDyWED",
        "colab_type": "code",
        "colab": {
          "base_uri": "https://localhost:8080/",
          "height": 132
        },
        "outputId": "b52d7c1d-ff60-410f-f188-9945133d5e1a"
      },
      "source": [
        "history."
      ],
      "execution_count": 69,
      "outputs": [
        {
          "output_type": "error",
          "ename": "SyntaxError",
          "evalue": "ignored",
          "traceback": [
            "\u001b[0;36m  File \u001b[0;32m\"<ipython-input-69-a9dc7e2fff28>\"\u001b[0;36m, line \u001b[0;32m1\u001b[0m\n\u001b[0;31m    history.\u001b[0m\n\u001b[0m            ^\u001b[0m\n\u001b[0;31mSyntaxError\u001b[0m\u001b[0;31m:\u001b[0m invalid syntax\n"
          ]
        }
      ]
    },
    {
      "cell_type": "code",
      "metadata": {
        "id": "D1iZwWFvyeMs",
        "colab_type": "code",
        "colab": {
          "base_uri": "https://localhost:8080/",
          "height": 738
        },
        "outputId": "3a75d667-8774-4bfd-e618-babdc147d88f"
      },
      "source": [
        "history.epoch"
      ],
      "execution_count": 70,
      "outputs": [
        {
          "output_type": "execute_result",
          "data": {
            "text/plain": [
              "[0,\n",
              " 1,\n",
              " 2,\n",
              " 3,\n",
              " 4,\n",
              " 5,\n",
              " 6,\n",
              " 7,\n",
              " 8,\n",
              " 9,\n",
              " 10,\n",
              " 11,\n",
              " 12,\n",
              " 13,\n",
              " 14,\n",
              " 15,\n",
              " 16,\n",
              " 17,\n",
              " 18,\n",
              " 19,\n",
              " 20,\n",
              " 21,\n",
              " 22,\n",
              " 23,\n",
              " 24,\n",
              " 25,\n",
              " 26,\n",
              " 27,\n",
              " 28,\n",
              " 29,\n",
              " 30,\n",
              " 31,\n",
              " 32,\n",
              " 33,\n",
              " 34,\n",
              " 35,\n",
              " 36,\n",
              " 37,\n",
              " 38,\n",
              " 39]"
            ]
          },
          "metadata": {
            "tags": []
          },
          "execution_count": 70
        }
      ]
    },
    {
      "cell_type": "code",
      "metadata": {
        "id": "wMJtxyWVyjQI",
        "colab_type": "code",
        "colab": {}
      },
      "source": [
        "epochs = history.epoch"
      ],
      "execution_count": 0,
      "outputs": []
    },
    {
      "cell_type": "code",
      "metadata": {
        "id": "Z5lMSV-ay4Eo",
        "colab_type": "code",
        "colab": {
          "base_uri": "https://localhost:8080/",
          "height": 35
        },
        "outputId": "fd270d69-1c92-4c67-8731-79fba3506168"
      },
      "source": [
        "type(history.history)"
      ],
      "execution_count": 72,
      "outputs": [
        {
          "output_type": "execute_result",
          "data": {
            "text/plain": [
              "dict"
            ]
          },
          "metadata": {
            "tags": []
          },
          "execution_count": 72
        }
      ]
    },
    {
      "cell_type": "code",
      "metadata": {
        "id": "a3Z5m2ut5TnJ",
        "colab_type": "code",
        "colab": {
          "base_uri": "https://localhost:8080/",
          "height": 35
        },
        "outputId": "fd6ba034-61ac-4eaa-f1b0-5e7809dc5084"
      },
      "source": [
        "history.history.keys()"
      ],
      "execution_count": 73,
      "outputs": [
        {
          "output_type": "execute_result",
          "data": {
            "text/plain": [
              "dict_keys(['val_loss', 'val_acc', 'loss', 'acc'])"
            ]
          },
          "metadata": {
            "tags": []
          },
          "execution_count": 73
        }
      ]
    },
    {
      "cell_type": "code",
      "metadata": {
        "id": "wEzRAZHNy6C1",
        "colab_type": "code",
        "colab": {
          "base_uri": "https://localhost:8080/",
          "height": 738
        },
        "outputId": "37f5ffa0-8205-4b02-8b64-3001d40fd5db"
      },
      "source": [
        "history.history['acc']"
      ],
      "execution_count": 74,
      "outputs": [
        {
          "output_type": "execute_result",
          "data": {
            "text/plain": [
              "[0.5794833333333334,\n",
              " 0.7176166666666667,\n",
              " 0.7376,\n",
              " 0.7379666666666667,\n",
              " 0.74385,\n",
              " 0.74425,\n",
              " 0.7454,\n",
              " 0.7462333333333333,\n",
              " 0.7515,\n",
              " 0.7494333333333333,\n",
              " 0.7509333333333333,\n",
              " 0.7535833333333334,\n",
              " 0.7467333333333334,\n",
              " 0.75055,\n",
              " 0.7564166666666666,\n",
              " 0.745,\n",
              " 0.7525666666666667,\n",
              " 0.75335,\n",
              " 0.7512333333333333,\n",
              " 0.7523166666666666,\n",
              " 0.7507333333333334,\n",
              " 0.7487333333333334,\n",
              " 0.7578,\n",
              " 0.7490833333333333,\n",
              " 0.75075,\n",
              " 0.75895,\n",
              " 0.75575,\n",
              " 0.7573,\n",
              " 0.7530833333333333,\n",
              " 0.7551833333333333,\n",
              " 0.7522166666666666,\n",
              " 0.74545,\n",
              " 0.754,\n",
              " 0.7307666666666667,\n",
              " 0.7523,\n",
              " 0.75,\n",
              " 0.7525333333333334,\n",
              " 0.75335,\n",
              " 0.7548166666666667,\n",
              " 0.7586833333333334]"
            ]
          },
          "metadata": {
            "tags": []
          },
          "execution_count": 74
        }
      ]
    },
    {
      "cell_type": "code",
      "metadata": {
        "id": "ukvZH7VS5v46",
        "colab_type": "code",
        "colab": {
          "base_uri": "https://localhost:8080/",
          "height": 35
        },
        "outputId": "d7bcd532-b03f-4264-88c8-d411ea6448ef"
      },
      "source": [
        "len(history.history['acc'])"
      ],
      "execution_count": 75,
      "outputs": [
        {
          "output_type": "execute_result",
          "data": {
            "text/plain": [
              "40"
            ]
          },
          "metadata": {
            "tags": []
          },
          "execution_count": 75
        }
      ]
    },
    {
      "cell_type": "code",
      "metadata": {
        "id": "WFICzBLAy-Eb",
        "colab_type": "code",
        "colab": {}
      },
      "source": [
        "import matplotlib.pyplot as plt"
      ],
      "execution_count": 0,
      "outputs": []
    },
    {
      "cell_type": "code",
      "metadata": {
        "id": "79hm-em9z2j1",
        "colab_type": "code",
        "colab": {
          "base_uri": "https://localhost:8080/",
          "height": 287
        },
        "outputId": "ecced1b6-8318-4f80-c374-4661a1731b8a"
      },
      "source": [
        "plt.plot(history.epoch, history.history['acc'])"
      ],
      "execution_count": 77,
      "outputs": [
        {
          "output_type": "execute_result",
          "data": {
            "text/plain": [
              "[<matplotlib.lines.Line2D at 0x7f0ec0759908>]"
            ]
          },
          "metadata": {
            "tags": []
          },
          "execution_count": 77
        },
        {
          "output_type": "display_data",
          "data": {
            "image/png": "[encoded data removed]",
            "text/plain": [
              "<Figure size 432x288 with 1 Axes>"
            ]
          },
          "metadata": {
            "tags": []
          }
        }
      ]
    },
    {
      "cell_type": "code",
      "metadata": {
        "id": "zIgrMrni0D_Y",
        "colab_type": "code",
        "colab": {
          "base_uri": "https://localhost:8080/",
          "height": 287
        },
        "outputId": "6b24f8bc-2074-4fbd-93de-947659dc58c3"
      },
      "source": [
        "plt.plot(history.epoch, history.history['acc'])\n",
        "plt.plot(history.epoch, history.history['val_acc'])"
      ],
      "execution_count": 78,
      "outputs": [
        {
          "output_type": "execute_result",
          "data": {
            "text/plain": [
              "[<matplotlib.lines.Line2D at 0x7f0ec0dd5588>]"
            ]
          },
          "metadata": {
            "tags": []
          },
          "execution_count": 78
        },
        {
          "output_type": "display_data",
          "data": {
            "image/png": "[encoded data removed]",
            "text/plain": [
              "<Figure size 432x288 with 1 Axes>"
            ]
          },
          "metadata": {
            "tags": []
          }
        }
      ]
    },
    {
      "cell_type": "code",
      "metadata": {
        "id": "J58e3ke96FtE",
        "colab_type": "code",
        "colab": {
          "base_uri": "https://localhost:8080/",
          "height": 287
        },
        "outputId": "40d68d29-1393-45b1-ff1b-d1247ea995a8"
      },
      "source": [
        "plt.plot(history.epoch, history.history['loss'])\n",
        "plt.plot(history.epoch, history.history['val_loss'])"
      ],
      "execution_count": 79,
      "outputs": [
        {
          "output_type": "execute_result",
          "data": {
            "text/plain": [
              "[<matplotlib.lines.Line2D at 0x7f0ec0dd5d30>]"
            ]
          },
          "metadata": {
            "tags": []
          },
          "execution_count": 79
        },
        {
          "output_type": "display_data",
          "data": {
            "image/png": "[encoded data removed]",
            "text/plain": [
              "<Figure size 432x288 with 1 Axes>"
            ]
          },
          "metadata": {
            "tags": []
          }
        }
      ]
    },
    {
      "cell_type": "code",
      "metadata": {
        "id": "Qli6sxCl0NY-",
        "colab_type": "code",
        "colab": {}
      },
      "source": [
        "a = np.arange(-100, 100, 0.1)\n",
        "b = np.arange(-100, 100, 0.1)\n",
        "C  = lambda a, b: (a + b - 2)**2"
      ],
      "execution_count": 0,
      "outputs": []
    },
    {
      "cell_type": "code",
      "metadata": {
        "id": "z4N2Vd3q2T2N",
        "colab_type": "code",
        "colab": {
          "base_uri": "https://localhost:8080/",
          "height": 287
        },
        "outputId": "2da513e0-28a5-4436-ed08-10f86d0454d9"
      },
      "source": [
        "plt.plot(a, C(a, 0))"
      ],
      "execution_count": 44,
      "outputs": [
        {
          "output_type": "execute_result",
          "data": {
            "text/plain": [
              "[<matplotlib.lines.Line2D at 0x7f0ec0e3c3c8>]"
            ]
          },
          "metadata": {
            "tags": []
          },
          "execution_count": 44
        },
        {
          "output_type": "display_data",
          "data": {
            "image/png": "[encoded data removed]",
            "text/plain": [
              "<Figure size 432x288 with 1 Axes>"
            ]
          },
          "metadata": {
            "tags": []
          }
        }
      ]
    },
    {
      "cell_type": "code",
      "metadata": {
        "id": "xD0qvdn72ekD",
        "colab_type": "code",
        "colab": {
          "base_uri": "https://localhost:8080/",
          "height": 287
        },
        "outputId": "1f0a6579-6282-4474-e6dd-5617ea310062"
      },
      "source": [
        "plt.plot(b, C(0, b))"
      ],
      "execution_count": 45,
      "outputs": [
        {
          "output_type": "execute_result",
          "data": {
            "text/plain": [
              "[<matplotlib.lines.Line2D at 0x7f0ec0d9af60>]"
            ]
          },
          "metadata": {
            "tags": []
          },
          "execution_count": 45
        },
        {
          "output_type": "display_data",
          "data": {
            "image/png": "[encoded data removed]",
            "text/plain": [
              "<Figure size 432x288 with 1 Axes>"
            ]
          },
          "metadata": {
            "tags": []
          }
        }
      ]
    },
    {
      "cell_type": "code",
      "metadata": {
        "id": "kk01GPrx2m_a",
        "colab_type": "code",
        "colab": {}
      },
      "source": [
        ""
      ],
      "execution_count": 0,
      "outputs": []
    }
  ]
}